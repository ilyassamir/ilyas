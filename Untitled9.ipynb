{
 "cells": [
  {
   "cell_type": "code",
   "execution_count": 1,
   "id": "b2cbe522",
   "metadata": {
    "scrolled": false
   },
   "outputs": [
    {
     "name": "stdout",
     "output_type": "stream",
     "text": [
      "Number of rows and columns: (3214, 7)\n"
     ]
    },
    {
     "data": {
      "text/html": [
       "<div>\n",
       "<style scoped>\n",
       "    .dataframe tbody tr th:only-of-type {\n",
       "        vertical-align: middle;\n",
       "    }\n",
       "\n",
       "    .dataframe tbody tr th {\n",
       "        vertical-align: top;\n",
       "    }\n",
       "\n",
       "    .dataframe thead th {\n",
       "        text-align: right;\n",
       "    }\n",
       "</style>\n",
       "<table border=\"1\" class=\"dataframe\">\n",
       "  <thead>\n",
       "    <tr style=\"text-align: right;\">\n",
       "      <th></th>\n",
       "      <th>Date</th>\n",
       "      <th>Open</th>\n",
       "      <th>High</th>\n",
       "      <th>Low</th>\n",
       "      <th>Close</th>\n",
       "      <th>Adj Close</th>\n",
       "      <th>Volume</th>\n",
       "    </tr>\n",
       "  </thead>\n",
       "  <tbody>\n",
       "    <tr>\n",
       "      <th>0</th>\n",
       "      <td>2010-01-04</td>\n",
       "      <td>7.8584</td>\n",
       "      <td>7.8625</td>\n",
       "      <td>7.7869</td>\n",
       "      <td>7.8042</td>\n",
       "      <td>7.8042</td>\n",
       "      <td>0.0</td>\n",
       "    </tr>\n",
       "    <tr>\n",
       "      <th>1</th>\n",
       "      <td>2010-01-05</td>\n",
       "      <td>7.7806</td>\n",
       "      <td>7.8207</td>\n",
       "      <td>7.7387</td>\n",
       "      <td>7.8092</td>\n",
       "      <td>7.8092</td>\n",
       "      <td>0.0</td>\n",
       "    </tr>\n",
       "    <tr>\n",
       "      <th>2</th>\n",
       "      <td>2010-01-06</td>\n",
       "      <td>7.8092</td>\n",
       "      <td>7.8675</td>\n",
       "      <td>7.7871</td>\n",
       "      <td>7.8148</td>\n",
       "      <td>7.8148</td>\n",
       "      <td>0.0</td>\n",
       "    </tr>\n",
       "    <tr>\n",
       "      <th>3</th>\n",
       "      <td>2010-01-07</td>\n",
       "      <td>7.6162</td>\n",
       "      <td>7.8604</td>\n",
       "      <td>7.6162</td>\n",
       "      <td>7.8567</td>\n",
       "      <td>7.8567</td>\n",
       "      <td>0.0</td>\n",
       "    </tr>\n",
       "    <tr>\n",
       "      <th>4</th>\n",
       "      <td>2010-01-08</td>\n",
       "      <td>7.8597</td>\n",
       "      <td>7.8696</td>\n",
       "      <td>7.7032</td>\n",
       "      <td>7.8283</td>\n",
       "      <td>7.8283</td>\n",
       "      <td>0.0</td>\n",
       "    </tr>\n",
       "  </tbody>\n",
       "</table>\n",
       "</div>"
      ],
      "text/plain": [
       "         Date    Open    High     Low   Close  Adj Close  Volume\n",
       "0  2010-01-04  7.8584  7.8625  7.7869  7.8042     7.8042     0.0\n",
       "1  2010-01-05  7.7806  7.8207  7.7387  7.8092     7.8092     0.0\n",
       "2  2010-01-06  7.8092  7.8675  7.7871  7.8148     7.8148     0.0\n",
       "3  2010-01-07  7.6162  7.8604  7.6162  7.8567     7.8567     0.0\n",
       "4  2010-01-08  7.8597  7.8696  7.7032  7.8283     7.8283     0.0"
      ]
     },
     "execution_count": 1,
     "metadata": {},
     "output_type": "execute_result"
    }
   ],
   "source": [
    "import math\n",
    "import matplotlib.pyplot as plt \n",
    "import keras\n",
    "import pandas as pd\n",
    "import numpy as np\n",
    "from keras.models import Sequential\n",
    "from keras.layers import Dense\n",
    "from keras.layers import LSTM\n",
    "from keras.layers import Dropout\n",
    "from keras.layers import *\n",
    "from sklearn.preprocessing import MinMaxScaler\n",
    "from sklearn.metrics import mean_squared_error , mean_absolute_percentage_error\n",
    "from sklearn.metrics import mean_absolute_error\n",
    "from sklearn.model_selection import train_test_split\n",
    "from keras.callbacks import EarlyStopping\n",
    "\n",
    "df=pd.read_csv(\"MAD=X.csv\")\n",
    "#index_col='Date'\n",
    "df=df.dropna()\n",
    "print('Number of rows and columns:', df.shape)\n",
    "df.head()\n"
   ]
  },
  {
   "cell_type": "code",
   "execution_count": 2,
   "id": "76a4082c",
   "metadata": {},
   "outputs": [],
   "source": [
    "training_set = df.iloc[:2800, 4:5].values\n",
    "test_set = df.iloc[2800:, 4:5].values"
   ]
  },
  {
   "cell_type": "code",
   "execution_count": 3,
   "id": "e3455cc6",
   "metadata": {},
   "outputs": [],
   "source": [
    "# Feature Scaling\n",
    "sc = MinMaxScaler(feature_range = (0, 1))\n",
    "training_set_scaled = sc.fit_transform(training_set)\n",
    "# Creating a data structure with 60 time-steps and 1 output\n",
    "X_train = []\n",
    "y_train = []\n",
    "for i in range(60, 2800):\n",
    "    X_train.append(training_set_scaled[i-60:i, 0])\n",
    "    y_train.append(training_set_scaled[i, 0])\n",
    "X_train, y_train = np.array(X_train), np.array(y_train)\n",
    "X_train = np.reshape(X_train, (X_train.shape[0], X_train.shape[1], 1))\n",
    "\n"
   ]
  },
  {
   "cell_type": "code",
   "execution_count": 4,
   "id": "859bb690",
   "metadata": {},
   "outputs": [
    {
     "name": "stdout",
     "output_type": "stream",
     "text": [
      "Epoch 1/100\n",
      "86/86 [==============================] - 45s 268ms/step - loss: 0.0395\n",
      "Epoch 2/100\n",
      "86/86 [==============================] - 15s 176ms/step - loss: 0.0060\n",
      "Epoch 3/100\n",
      "86/86 [==============================] - 14s 160ms/step - loss: 0.0055\n",
      "Epoch 4/100\n",
      "86/86 [==============================] - 14s 158ms/step - loss: 0.0050\n",
      "Epoch 5/100\n",
      "86/86 [==============================] - 13s 156ms/step - loss: 0.0052\n",
      "Epoch 6/100\n",
      "86/86 [==============================] - 13s 150ms/step - loss: 0.0049\n",
      "Epoch 7/100\n",
      "86/86 [==============================] - 17s 204ms/step - loss: 0.0049\n",
      "Epoch 8/100\n",
      "86/86 [==============================] - 18s 205ms/step - loss: 0.0044\n",
      "Epoch 9/100\n",
      "86/86 [==============================] - 15s 179ms/step - loss: 0.0046\n",
      "Epoch 10/100\n",
      "86/86 [==============================] - 13s 154ms/step - loss: 0.0047\n",
      "Epoch 11/100\n",
      "86/86 [==============================] - 16s 183ms/step - loss: 0.0051\n",
      "Epoch 12/100\n",
      "86/86 [==============================] - 17s 192ms/step - loss: 0.0037\n",
      "Epoch 13/100\n",
      "86/86 [==============================] - 16s 190ms/step - loss: 0.0039\n",
      "Epoch 14/100\n",
      "86/86 [==============================] - 16s 189ms/step - loss: 0.0037\n",
      "Epoch 15/100\n",
      "86/86 [==============================] - 18s 210ms/step - loss: 0.0037\n",
      "Epoch 16/100\n",
      "86/86 [==============================] - 15s 170ms/step - loss: 0.0035\n",
      "Epoch 17/100\n",
      "86/86 [==============================] - 14s 159ms/step - loss: 0.0036\n",
      "Epoch 18/100\n",
      "86/86 [==============================] - 13s 150ms/step - loss: 0.0038\n",
      "Epoch 19/100\n",
      "86/86 [==============================] - 14s 158ms/step - loss: 0.0032\n",
      "Epoch 20/100\n",
      "86/86 [==============================] - 16s 182ms/step - loss: 0.0031\n",
      "Epoch 21/100\n",
      "86/86 [==============================] - 15s 169ms/step - loss: 0.0032\n",
      "Epoch 22/100\n",
      "86/86 [==============================] - 14s 165ms/step - loss: 0.0031\n",
      "Epoch 23/100\n",
      "86/86 [==============================] - 16s 190ms/step - loss: 0.0030\n",
      "Epoch 24/100\n",
      "86/86 [==============================] - 13s 151ms/step - loss: 0.0029\n",
      "Epoch 25/100\n",
      "86/86 [==============================] - 13s 153ms/step - loss: 0.0028\n",
      "Epoch 26/100\n",
      "86/86 [==============================] - 13s 153ms/step - loss: 0.0027\n",
      "Epoch 27/100\n",
      "86/86 [==============================] - 12s 144ms/step - loss: 0.0028\n",
      "Epoch 28/100\n",
      "86/86 [==============================] - 13s 152ms/step - loss: 0.0026\n",
      "Epoch 29/100\n",
      "86/86 [==============================] - 13s 152ms/step - loss: 0.0026\n",
      "Epoch 30/100\n",
      "86/86 [==============================] - 13s 151ms/step - loss: 0.0026\n",
      "Epoch 31/100\n",
      "86/86 [==============================] - 13s 149ms/step - loss: 0.0025\n",
      "Epoch 32/100\n",
      "86/86 [==============================] - 13s 149ms/step - loss: 0.0023\n",
      "Epoch 33/100\n",
      "86/86 [==============================] - 13s 153ms/step - loss: 0.0024\n",
      "Epoch 34/100\n",
      "86/86 [==============================] - 13s 155ms/step - loss: 0.0023\n",
      "Epoch 35/100\n",
      "86/86 [==============================] - 16s 187ms/step - loss: 0.0024\n",
      "Epoch 36/100\n",
      "86/86 [==============================] - 13s 155ms/step - loss: 0.0021\n",
      "Epoch 37/100\n",
      "86/86 [==============================] - 13s 154ms/step - loss: 0.0021\n",
      "Epoch 38/100\n",
      "86/86 [==============================] - 12s 145ms/step - loss: 0.0021\n",
      "Epoch 39/100\n",
      "86/86 [==============================] - 13s 151ms/step - loss: 0.0020\n",
      "Epoch 40/100\n",
      "86/86 [==============================] - 13s 149ms/step - loss: 0.0019\n",
      "Epoch 41/100\n",
      "86/86 [==============================] - 13s 150ms/step - loss: 0.0018\n",
      "Epoch 42/100\n",
      "86/86 [==============================] - 13s 153ms/step - loss: 0.0018\n",
      "Epoch 43/100\n",
      "86/86 [==============================] - 13s 150ms/step - loss: 0.0018\n",
      "Epoch 44/100\n",
      "86/86 [==============================] - 12s 144ms/step - loss: 0.0018\n",
      "Epoch 45/100\n",
      "86/86 [==============================] - 13s 152ms/step - loss: 0.0017\n",
      "Epoch 46/100\n",
      "86/86 [==============================] - 14s 158ms/step - loss: 0.0017\n",
      "Epoch 47/100\n",
      "86/86 [==============================] - 13s 153ms/step - loss: 0.0017\n",
      "Epoch 48/100\n",
      "86/86 [==============================] - 13s 154ms/step - loss: 0.0016\n",
      "Epoch 49/100\n",
      "86/86 [==============================] - 13s 148ms/step - loss: 0.0017\n",
      "Epoch 50/100\n",
      "86/86 [==============================] - 13s 148ms/step - loss: 0.0016\n",
      "Epoch 51/100\n",
      "86/86 [==============================] - 15s 169ms/step - loss: 0.0016\n",
      "Epoch 52/100\n",
      "86/86 [==============================] - 15s 178ms/step - loss: 0.0015\n",
      "Epoch 53/100\n",
      "86/86 [==============================] - 14s 167ms/step - loss: 0.0014\n",
      "Epoch 54/100\n",
      "86/86 [==============================] - 15s 171ms/step - loss: 0.0014\n",
      "Epoch 55/100\n",
      "86/86 [==============================] - 14s 162ms/step - loss: 0.0014\n",
      "Epoch 56/100\n",
      "86/86 [==============================] - 13s 152ms/step - loss: 0.0014\n",
      "Epoch 57/100\n",
      "86/86 [==============================] - 14s 160ms/step - loss: 0.0015\n",
      "Epoch 58/100\n",
      "86/86 [==============================] - 14s 165ms/step - loss: 0.0014\n",
      "Epoch 59/100\n",
      "86/86 [==============================] - 14s 162ms/step - loss: 0.0014\n",
      "Epoch 60/100\n",
      "86/86 [==============================] - 14s 159ms/step - loss: 0.0014\n",
      "Epoch 61/100\n",
      "86/86 [==============================] - 14s 162ms/step - loss: 0.0014\n",
      "Epoch 62/100\n",
      "86/86 [==============================] - 13s 157ms/step - loss: 0.0013\n",
      "Epoch 63/100\n",
      "86/86 [==============================] - 14s 157ms/step - loss: 0.0013\n",
      "Epoch 64/100\n",
      "86/86 [==============================] - 13s 156ms/step - loss: 0.0013\n",
      "Epoch 65/100\n",
      "86/86 [==============================] - 13s 152ms/step - loss: 0.0012\n",
      "Epoch 66/100\n",
      "86/86 [==============================] - 14s 162ms/step - loss: 0.0012\n",
      "Epoch 67/100\n",
      "86/86 [==============================] - 13s 156ms/step - loss: 0.0012\n",
      "Epoch 68/100\n",
      "86/86 [==============================] - 14s 166ms/step - loss: 0.0012\n",
      "Epoch 69/100\n",
      "86/86 [==============================] - 13s 155ms/step - loss: 0.0012\n",
      "Epoch 70/100\n",
      "86/86 [==============================] - 13s 149ms/step - loss: 0.0012\n",
      "Epoch 71/100\n",
      "86/86 [==============================] - 13s 148ms/step - loss: 0.0011\n",
      "Epoch 72/100\n",
      "86/86 [==============================] - 14s 157ms/step - loss: 0.0012\n",
      "Epoch 73/100\n",
      "86/86 [==============================] - 15s 175ms/step - loss: 0.0011\n",
      "Epoch 74/100\n",
      "86/86 [==============================] - 14s 157ms/step - loss: 0.0012\n",
      "Epoch 75/100\n",
      "86/86 [==============================] - 14s 157ms/step - loss: 0.0011\n",
      "Epoch 76/100\n",
      "86/86 [==============================] - 14s 159ms/step - loss: 0.0012\n",
      "Epoch 77/100\n",
      "86/86 [==============================] - 14s 160ms/step - loss: 0.0011\n",
      "Epoch 78/100\n",
      "86/86 [==============================] - 12s 144ms/step - loss: 0.0011\n",
      "Epoch 79/100\n",
      "86/86 [==============================] - 14s 168ms/step - loss: 0.0011\n",
      "Epoch 80/100\n",
      "86/86 [==============================] - 13s 156ms/step - loss: 0.0011\n",
      "Epoch 81/100\n",
      "86/86 [==============================] - 14s 163ms/step - loss: 0.0011\n",
      "Epoch 82/100\n",
      "86/86 [==============================] - 14s 157ms/step - loss: 0.0010\n",
      "Epoch 83/100\n",
      "86/86 [==============================] - 14s 163ms/step - loss: 0.0012\n",
      "Epoch 84/100\n",
      "86/86 [==============================] - 13s 151ms/step - loss: 0.0011\n",
      "Epoch 85/100\n",
      "86/86 [==============================] - 13s 151ms/step - loss: 0.0011\n",
      "Epoch 86/100\n",
      "86/86 [==============================] - 13s 156ms/step - loss: 0.0011\n",
      "Epoch 87/100\n",
      "86/86 [==============================] - 13s 156ms/step - loss: 0.0011\n",
      "Epoch 88/100\n",
      "86/86 [==============================] - 13s 154ms/step - loss: 0.0011\n",
      "Epoch 89/100\n",
      "86/86 [==============================] - 13s 152ms/step - loss: 0.0011\n",
      "Epoch 90/100\n",
      "86/86 [==============================] - 13s 146ms/step - loss: 0.0011\n",
      "Epoch 91/100\n",
      "86/86 [==============================] - 13s 152ms/step - loss: 0.0011\n",
      "Epoch 92/100\n",
      "86/86 [==============================] - 13s 157ms/step - loss: 0.0010\n",
      "Epoch 93/100\n",
      "86/86 [==============================] - 13s 153ms/step - loss: 0.0011\n",
      "Epoch 94/100\n",
      "86/86 [==============================] - 13s 152ms/step - loss: 0.0011\n",
      "Epoch 95/100\n",
      "86/86 [==============================] - 13s 148ms/step - loss: 0.0010\n",
      "Epoch 96/100\n",
      "86/86 [==============================] - 12s 144ms/step - loss: 0.0011\n",
      "Epoch 97/100\n",
      "86/86 [==============================] - 13s 153ms/step - loss: 0.0010\n",
      "Epoch 98/100\n"
     ]
    },
    {
     "name": "stdout",
     "output_type": "stream",
     "text": [
      "86/86 [==============================] - 13s 153ms/step - loss: 0.0010\n",
      "Epoch 99/100\n",
      "86/86 [==============================] - 13s 155ms/step - loss: 0.0011\n",
      "Epoch 100/100\n",
      "86/86 [==============================] - 13s 153ms/step - loss: 0.0011\n"
     ]
    }
   ],
   "source": [
    "modele = Sequential()\n",
    "#Adding the first LSTM layer and some Dropout regularisation\n",
    "modele.add(LSTM(units = 50, return_sequences = True, input_shape = (X_train.shape[1], 1)))\n",
    "modele.add(Dropout(0.2))\n",
    "# Adding a second LSTM layer and some Dropout regularisation\n",
    "modele.add(LSTM(units = 50, return_sequences = True))\n",
    "modele.add(Dropout(0.2))\n",
    "# Adding a third LSTM layer and some Dropout regularisation\n",
    "modele.add(LSTM(units = 50, return_sequences = True))\n",
    "modele.add(Dropout(0.2))\n",
    "# Adding a fourth LSTM layer and some Dropout regularisation\n",
    "modele.add(LSTM(units = 50))\n",
    "modele.add(Dropout(0.2))\n",
    "# Adding the output layer\n",
    "modele.add(Dense(units = 1))\n",
    "\n",
    "# Compiling the RNN\n",
    "modele.compile(optimizer = 'adam', loss = 'mean_squared_error')\n",
    "\n",
    "# Fitting the RNN to the Training set\n",
    "mdl=modele.fit(X_train, y_train, epochs = 100, batch_size = 32)"
   ]
  },
  {
   "cell_type": "code",
   "execution_count": 5,
   "id": "f10af91e",
   "metadata": {},
   "outputs": [
    {
     "name": "stdout",
     "output_type": "stream",
     "text": [
      "(414, 60, 1)\n"
     ]
    }
   ],
   "source": [
    "\n",
    "dataset_train = df.iloc[:2800, 4:5]\n",
    "dataset_test = df.iloc[2800:, 4:5]\n",
    "dataset_total = pd.concat((dataset_train, dataset_test), axis = 0)\n",
    "inputs = dataset_total[len(dataset_total) - len(dataset_test) - 60:].values\n",
    "inputs = inputs.reshape(-1,1)\n",
    "inputs = sc.transform(inputs)\n",
    "X_test = []\n",
    "for i in range(60, 474):\n",
    "    X_test.append(inputs[i-60:i, 0])\n",
    "X_test = np.array(X_test)\n",
    "X_test = np.reshape(X_test, (X_test.shape[0], X_test.shape[1], 1))\n",
    "print(X_test.shape)\n"
   ]
  },
  {
   "cell_type": "code",
   "execution_count": 6,
   "id": "09258941",
   "metadata": {},
   "outputs": [],
   "source": [
    "predicted_stock_price = modele.predict(X_test)\n",
    "predicted_stock_price = sc.inverse_transform(predicted_stock_price)\n",
    "#predicted_stock_price.size ,dataset_test.values.size ,df.loc[2800:, 'Date'].size\n"
   ]
  },
  {
   "cell_type": "code",
   "execution_count": 7,
   "id": "4eba6019",
   "metadata": {},
   "outputs": [
    {
     "data": {
      "image/png": "[encoded data removed]",
      "text/plain": [
       "<Figure size 1120x480 with 1 Axes>"
      ]
     },
     "metadata": {
      "needs_background": "light"
     },
     "output_type": "display_data"
    }
   ],
   "source": [
    "# Visualising the results\n",
    "\n",
    "plt.figure(figsize=(14, 6), dpi=80)\n",
    "plt.plot(df.loc[2801:,'Date'],dataset_test.values, color = 'red', label = 'Real  Price')\n",
    "plt.plot(df.loc[2801:, 'Date'],predicted_stock_price[:414], color = 'blue', label = 'Predicted   Price')\n",
    "plt.xticks(np.arange(0,414,50))\n",
    "plt.title(' Prediction')\n",
    "plt.xlabel('Time')\n",
    "plt.ylabel('Close')\n",
    "#plt.figsize(14,7)\n",
    "\n",
    "#figure(figsize=(14, 6), dpi=80)\n",
    "plt.legend()\n",
    "plt.show()"
   ]
  },
  {
   "cell_type": "code",
   "execution_count": 8,
   "id": "bb452baa",
   "metadata": {},
   "outputs": [
    {
     "data": {
      "text/plain": [
       "414"
      ]
     },
     "execution_count": 8,
     "metadata": {},
     "output_type": "execute_result"
    }
   ],
   "source": [
    "len(dataset_test)"
   ]
  },
  {
   "cell_type": "code",
   "execution_count": 9,
   "id": "4d411987",
   "metadata": {},
   "outputs": [],
   "source": [
    "# import tensorflow as tf\n",
    "path = './model3.h5'\n",
    "modele.save(path )\n",
    "# loaded_model= tf.keras.models.load_model(path )"
   ]
  },
  {
   "cell_type": "code",
   "execution_count": 10,
   "id": "e5058366",
   "metadata": {},
   "outputs": [
    {
     "name": "stdout",
     "output_type": "stream",
     "text": [
      "mse 0.015874522415377693\n",
      "rmse 0.12599413643252488\n",
      "mae 0.09085789526499874\n",
      "mape 0.010048549795648506\n"
     ]
    }
   ],
   "source": [
    "from sklearn.metrics import mean_squared_error\n",
    "from sklearn.metrics import mean_absolute_error\n",
    "from math import sqrt\n",
    "mse = mean_squared_error(dataset_test , predicted_stock_price[:414] )\n",
    "rmse=sqrt(mean_squared_error(dataset_test , predicted_stock_price[:414] ))\n",
    "mae=mean_absolute_error(dataset_test , predicted_stock_price[:414])\n",
    "mape= mean_absolute_percentage_error(dataset_test , predicted_stock_price[:414])\n",
    "print('mse', mse)\n",
    "print('rmse',rmse) \n",
    "print('mae',mae)\n",
    "print('mape',mape)"
   ]
  },
  {
   "cell_type": "code",
   "execution_count": 31,
   "id": "9bfc73f9",
   "metadata": {},
   "outputs": [
    {
     "ename": "AttributeError",
     "evalue": "'Sequential' object has no attribute 'bic'",
     "output_type": "error",
     "traceback": [
      "\u001b[1;31m---------------------------------------------------------------------------\u001b[0m",
      "\u001b[1;31mAttributeError\u001b[0m                            Traceback (most recent call last)",
      "\u001b[1;32m~\\AppData\\Local\\Temp/ipykernel_11016/1540969303.py\u001b[0m in \u001b[0;36m<module>\u001b[1;34m\u001b[0m\n\u001b[0;32m      1\u001b[0m \u001b[1;32mfrom\u001b[0m \u001b[0msklearn\u001b[0m\u001b[1;33m.\u001b[0m\u001b[0mlinear_model\u001b[0m \u001b[1;32mimport\u001b[0m \u001b[0mLinearRegression\u001b[0m\u001b[1;33m\u001b[0m\u001b[1;33m\u001b[0m\u001b[0m\n\u001b[0;32m      2\u001b[0m \u001b[1;32mimport\u001b[0m \u001b[0mstatsmodels\u001b[0m\u001b[1;33m.\u001b[0m\u001b[0mapi\u001b[0m \u001b[1;32mas\u001b[0m \u001b[0msm\u001b[0m\u001b[1;33m\u001b[0m\u001b[1;33m\u001b[0m\u001b[0m\n\u001b[1;32m----> 3\u001b[1;33m \u001b[0mmodele\u001b[0m\u001b[1;33m.\u001b[0m\u001b[0mbic\u001b[0m\u001b[1;33m\u001b[0m\u001b[1;33m\u001b[0m\u001b[0m\n\u001b[0m",
      "\u001b[1;31mAttributeError\u001b[0m: 'Sequential' object has no attribute 'bic'"
     ]
    }
   ],
   "source": [
    "from sklearn.linear_model import LinearRegression\n",
    "import statsmodels.api as sm\n",
    "modele.bic"
   ]
  },
  {
   "cell_type": "code",
   "execution_count": 26,
   "id": "623b433f",
   "metadata": {},
   "outputs": [
    {
     "name": "stdout",
     "output_type": "stream",
     "text": [
      "13/13 [==============================] - 7s 21ms/step - loss: 84.5265\n"
     ]
    }
   ],
   "source": [
    "metrics = modele.evaluate(dataset_test, predicted_stock_price[:414]  )"
   ]
  },
  {
   "cell_type": "code",
   "execution_count": null,
   "id": "87f29b02",
   "metadata": {},
   "outputs": [],
   "source": [
    "df2 = pd.DataFrame(0.0,index = range(1,4), columns = ['Close'])\n",
    "for j in range(1,4) :\n",
    "  dataset_train = df.iloc[:2801, 4:5]\n",
    "  df1 = df2.iloc[0:j]\n",
    "  print(df1)  \n",
    "  dataset_total = pd.concat((dataset_train, df1), axis = 0)\n",
    "  inputs = dataset_total[len(dataset_total) - len(df1) - 60:].values\n",
    "  inputs = inputs.reshape(-1,1)\n",
    "  inputs = sc.transform(inputs)\n",
    "  list= []\n",
    "  X_test = []\n",
    "  for i in range(60, 60 + j):\n",
    "    X_test.append(inputs[i-60:i, 0])\n",
    "  X_test = np.array(X_test)\n",
    "  X_test = np.reshape(X_test, (X_test.shape[0], X_test.shape[1], 1))\n",
    "  predicted_stock_price = modele.predict(X_test)\n",
    "  predicted_stock_price= sc.inverse_transform(predicted_stock_price)  \n",
    "  df2['Close'][j]=df2['Close'][j] +predicted_stock_price [j-1]\n",
    "  #list.append(float(predicted_stock_price[0] ))\n",
    " \n",
    "predicted_stock_price"
   ]
  },
  {
   "cell_type": "code",
   "execution_count": 3,
   "id": "b98ef224",
   "metadata": {},
   "outputs": [
    {
     "ename": "ValueError",
     "evalue": "DataFrame constructor not properly called!",
     "output_type": "error",
     "traceback": [
      "\u001b[1;31m---------------------------------------------------------------------------\u001b[0m",
      "\u001b[1;31mValueError\u001b[0m                                Traceback (most recent call last)",
      "\u001b[1;32m~\\AppData\\Local\\Temp/ipykernel_7112/2641071091.py\u001b[0m in \u001b[0;36m<module>\u001b[1;34m\u001b[0m\n\u001b[0;32m      1\u001b[0m \u001b[1;32mfrom\u001b[0m \u001b[0mdatetime\u001b[0m \u001b[1;32mimport\u001b[0m \u001b[0mdate\u001b[0m\u001b[1;33m\u001b[0m\u001b[1;33m\u001b[0m\u001b[0m\n\u001b[1;32m----> 2\u001b[1;33m \u001b[0mdf2\u001b[0m\u001b[1;33m=\u001b[0m\u001b[0mpd\u001b[0m\u001b[1;33m.\u001b[0m\u001b[0mDataFrame\u001b[0m\u001b[1;33m(\u001b[0m\u001b[1;36m0\u001b[0m\u001b[1;33m)\u001b[0m\u001b[1;33m\u001b[0m\u001b[1;33m\u001b[0m\u001b[0m\n\u001b[0m\u001b[0;32m      3\u001b[0m \u001b[0mdate1\u001b[0m\u001b[1;33m=\u001b[0m\u001b[0mdate\u001b[0m\u001b[1;33m(\u001b[0m\u001b[1;36m2022\u001b[0m\u001b[1;33m,\u001b[0m\u001b[1;36m6\u001b[0m\u001b[1;33m,\u001b[0m\u001b[1;36m11\u001b[0m\u001b[1;33m)\u001b[0m\u001b[1;33m\u001b[0m\u001b[1;33m\u001b[0m\u001b[0m\n\u001b[0;32m      4\u001b[0m \u001b[0mdx\u001b[0m \u001b[1;33m=\u001b[0m \u001b[0mpd\u001b[0m\u001b[1;33m.\u001b[0m\u001b[0mdate_range\u001b[0m\u001b[1;33m(\u001b[0m\u001b[0mdate1\u001b[0m\u001b[1;33m,\u001b[0m \u001b[0mperiods\u001b[0m\u001b[1;33m=\u001b[0m\u001b[1;36m3\u001b[0m\u001b[1;33m,\u001b[0m \u001b[0mfreq\u001b[0m\u001b[1;33m=\u001b[0m \u001b[1;34m\"D\"\u001b[0m\u001b[1;33m)\u001b[0m\u001b[1;33m\u001b[0m\u001b[1;33m\u001b[0m\u001b[0m\n\u001b[0;32m      5\u001b[0m \u001b[0mdf2\u001b[0m\u001b[1;33m.\u001b[0m\u001b[0mindex\u001b[0m \u001b[1;33m=\u001b[0m \u001b[0mdx\u001b[0m\u001b[1;33m\u001b[0m\u001b[1;33m\u001b[0m\u001b[0m\n",
      "\u001b[1;32m~\\anaconda3\\lib\\site-packages\\pandas\\core\\frame.py\u001b[0m in \u001b[0;36m__init__\u001b[1;34m(self, data, index, columns, dtype, copy)\u001b[0m\n\u001b[0;32m    728\u001b[0m         \u001b[1;32melse\u001b[0m\u001b[1;33m:\u001b[0m\u001b[1;33m\u001b[0m\u001b[1;33m\u001b[0m\u001b[0m\n\u001b[0;32m    729\u001b[0m             \u001b[1;32mif\u001b[0m \u001b[0mindex\u001b[0m \u001b[1;32mis\u001b[0m \u001b[1;32mNone\u001b[0m \u001b[1;32mor\u001b[0m \u001b[0mcolumns\u001b[0m \u001b[1;32mis\u001b[0m \u001b[1;32mNone\u001b[0m\u001b[1;33m:\u001b[0m\u001b[1;33m\u001b[0m\u001b[1;33m\u001b[0m\u001b[0m\n\u001b[1;32m--> 730\u001b[1;33m                 \u001b[1;32mraise\u001b[0m \u001b[0mValueError\u001b[0m\u001b[1;33m(\u001b[0m\u001b[1;34m\"DataFrame constructor not properly called!\"\u001b[0m\u001b[1;33m)\u001b[0m\u001b[1;33m\u001b[0m\u001b[1;33m\u001b[0m\u001b[0m\n\u001b[0m\u001b[0;32m    731\u001b[0m \u001b[1;33m\u001b[0m\u001b[0m\n\u001b[0;32m    732\u001b[0m             \u001b[1;31m# Argument 1 to \"ensure_index\" has incompatible type \"Collection[Any]\";\u001b[0m\u001b[1;33m\u001b[0m\u001b[1;33m\u001b[0m\u001b[0m\n",
      "\u001b[1;31mValueError\u001b[0m: DataFrame constructor not properly called!"
     ]
    }
   ],
   "source": [
    "from datetime import date\n",
    "df2=pd.DataFrame(0)\n",
    "date1=date(2022,6,11)\n",
    "dx = pd.date_range(date1, periods=3, freq= \"D\")\n",
    "df2.index = dx\n",
    "df2"
   ]
  },
  {
   "cell_type": "code",
   "execution_count": 49,
   "id": "e473a188",
   "metadata": {},
   "outputs": [],
   "source": [
    "def MAPE(Y_actual,Y_Predicted):\n",
    "    mape = np.mean(np.abs((Y_actual - Y_Predicted)/Y_actual))*100\n",
    "    return mape"
   ]
  },
  {
   "cell_type": "code",
   "execution_count": 50,
   "id": "e66ef649",
   "metadata": {},
   "outputs": [
    {
     "data": {
      "text/plain": [
       "Close    1.902975\n",
       "dtype: float64"
      ]
     },
     "execution_count": 50,
     "metadata": {},
     "output_type": "execute_result"
    }
   ],
   "source": [
    "MAPE(dataset_test , predicted_stock_price[:414])"
   ]
  },
  {
   "cell_type": "code",
   "execution_count": 54,
   "id": "498cbadf",
   "metadata": {},
   "outputs": [
    {
     "data": {
      "text/plain": [
       "0.01902975274628881"
      ]
     },
     "execution_count": 54,
     "metadata": {},
     "output_type": "execute_result"
    }
   ],
   "source": [
    " mean_absolute_percentage_error(dataset_test , predicted_stock_price[:414])"
   ]
  },
  {
   "cell_type": "code",
   "execution_count": null,
   "id": "162f28cb",
   "metadata": {},
   "outputs": [],
   "source": []
  }
 ],
 "metadata": {
  "kernelspec": {
   "display_name": "Python 3 (ipykernel)",
   "language": "python",
   "name": "python3"
  },
  "language_info": {
   "codemirror_mode": {
    "name": "ipython",
    "version": 3
   },
   "file_extension": ".py",
   "mimetype": "text/x-python",
   "name": "python",
   "nbconvert_exporter": "python",
   "pygments_lexer": "ipython3",
   "version": "3.9.7"
  }
 },
 "nbformat": 4,
 "nbformat_minor": 5
}
